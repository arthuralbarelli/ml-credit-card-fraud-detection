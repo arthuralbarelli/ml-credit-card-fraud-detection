{
 "cells": [
  {
   "cell_type": "markdown",
   "id": "8d26d5c6",
   "metadata": {},
   "source": [
    "# 1. Import Libraries"
   ]
  },
  {
   "cell_type": "code",
   "execution_count": 1,
   "id": "79131fd4",
   "metadata": {},
   "outputs": [],
   "source": [
    "import pandas as pd\n",
    "import seaborn as sns\n",
    "import matplotlib.pyplot as plt\n",
    "\n",
    "from pandas.api.types import is_string_dtype, is_bool_dtype, is_categorical_dtype\n",
    "\n",
    "pd.set_option('display.max_columns', None)"
   ]
  },
  {
   "cell_type": "markdown",
   "id": "74749a2f",
   "metadata": {},
   "source": [
    "# 2. Load Data"
   ]
  },
  {
   "cell_type": "code",
   "execution_count": 5,
   "id": "e8114f04",
   "metadata": {},
   "outputs": [],
   "source": [
    "fraud_train = pd.read_csv('../data/fraudTrain.csv')\n",
    "fraud_test = pd.read_csv('../data/fraudTest.csv')"
   ]
  },
  {
   "cell_type": "markdown",
   "id": "4743a1f7",
   "metadata": {},
   "source": [
    "## a. Check if the both datasets have the same columns:"
   ]
  },
  {
   "cell_type": "code",
   "execution_count": 6,
   "id": "a9af314e",
   "metadata": {},
   "outputs": [],
   "source": [
    "def match_dataframe_columns(df_train, df_test):\n",
    "    try:\n",
    "        return(all(df_train.columns == df_test.columns))\n",
    "    except:\n",
    "        return(False)"
   ]
  },
  {
   "cell_type": "code",
   "execution_count": 7,
   "id": "d0040a95",
   "metadata": {},
   "outputs": [
    {
     "data": {
      "text/plain": [
       "True"
      ]
     },
     "execution_count": 7,
     "metadata": {},
     "output_type": "execute_result"
    }
   ],
   "source": [
    "match_dataframe_columns(fraud_train, fraud_test)"
   ]
  },
  {
   "cell_type": "markdown",
   "id": "b75bce88",
   "metadata": {},
   "source": [
    "## b. Append train and test dataset"
   ]
  },
  {
   "cell_type": "code",
   "execution_count": 8,
   "id": "9e8536f9",
   "metadata": {},
   "outputs": [],
   "source": [
    "fraud_data = pd.concat([fraud_train, fraud_test], ignore_index=False)"
   ]
  },
  {
   "cell_type": "code",
   "execution_count": 9,
   "id": "40149f3f",
   "metadata": {},
   "outputs": [
    {
     "data": {
      "text/html": [
       "<div>\n",
       "<style scoped>\n",
       "    .dataframe tbody tr th:only-of-type {\n",
       "        vertical-align: middle;\n",
       "    }\n",
       "\n",
       "    .dataframe tbody tr th {\n",
       "        vertical-align: top;\n",
       "    }\n",
       "\n",
       "    .dataframe thead th {\n",
       "        text-align: right;\n",
       "    }\n",
       "</style>\n",
       "<table border=\"1\" class=\"dataframe\">\n",
       "  <thead>\n",
       "    <tr style=\"text-align: right;\">\n",
       "      <th></th>\n",
       "      <th>Unnamed: 0</th>\n",
       "      <th>trans_date_trans_time</th>\n",
       "      <th>cc_num</th>\n",
       "      <th>merchant</th>\n",
       "      <th>category</th>\n",
       "      <th>amt</th>\n",
       "      <th>first</th>\n",
       "      <th>last</th>\n",
       "      <th>gender</th>\n",
       "      <th>street</th>\n",
       "      <th>city</th>\n",
       "      <th>state</th>\n",
       "      <th>zip</th>\n",
       "      <th>lat</th>\n",
       "      <th>long</th>\n",
       "      <th>city_pop</th>\n",
       "      <th>job</th>\n",
       "      <th>dob</th>\n",
       "      <th>trans_num</th>\n",
       "      <th>unix_time</th>\n",
       "      <th>merch_lat</th>\n",
       "      <th>merch_long</th>\n",
       "      <th>is_fraud</th>\n",
       "    </tr>\n",
       "  </thead>\n",
       "  <tbody>\n",
       "    <tr>\n",
       "      <th>0</th>\n",
       "      <td>0</td>\n",
       "      <td>2019-01-01 00:00:18</td>\n",
       "      <td>2703186189652095</td>\n",
       "      <td>fraud_Rippin, Kub and Mann</td>\n",
       "      <td>misc_net</td>\n",
       "      <td>4.97</td>\n",
       "      <td>Jennifer</td>\n",
       "      <td>Banks</td>\n",
       "      <td>F</td>\n",
       "      <td>561 Perry Cove</td>\n",
       "      <td>Moravian Falls</td>\n",
       "      <td>NC</td>\n",
       "      <td>28654</td>\n",
       "      <td>36.0788</td>\n",
       "      <td>-81.1781</td>\n",
       "      <td>3495</td>\n",
       "      <td>Psychologist, counselling</td>\n",
       "      <td>1988-03-09</td>\n",
       "      <td>0b242abb623afc578575680df30655b9</td>\n",
       "      <td>1325376018</td>\n",
       "      <td>36.011293</td>\n",
       "      <td>-82.048315</td>\n",
       "      <td>0</td>\n",
       "    </tr>\n",
       "    <tr>\n",
       "      <th>1</th>\n",
       "      <td>1</td>\n",
       "      <td>2019-01-01 00:00:44</td>\n",
       "      <td>630423337322</td>\n",
       "      <td>fraud_Heller, Gutmann and Zieme</td>\n",
       "      <td>grocery_pos</td>\n",
       "      <td>107.23</td>\n",
       "      <td>Stephanie</td>\n",
       "      <td>Gill</td>\n",
       "      <td>F</td>\n",
       "      <td>43039 Riley Greens Suite 393</td>\n",
       "      <td>Orient</td>\n",
       "      <td>WA</td>\n",
       "      <td>99160</td>\n",
       "      <td>48.8878</td>\n",
       "      <td>-118.2105</td>\n",
       "      <td>149</td>\n",
       "      <td>Special educational needs teacher</td>\n",
       "      <td>1978-06-21</td>\n",
       "      <td>1f76529f8574734946361c461b024d99</td>\n",
       "      <td>1325376044</td>\n",
       "      <td>49.159047</td>\n",
       "      <td>-118.186462</td>\n",
       "      <td>0</td>\n",
       "    </tr>\n",
       "    <tr>\n",
       "      <th>2</th>\n",
       "      <td>2</td>\n",
       "      <td>2019-01-01 00:00:51</td>\n",
       "      <td>38859492057661</td>\n",
       "      <td>fraud_Lind-Buckridge</td>\n",
       "      <td>entertainment</td>\n",
       "      <td>220.11</td>\n",
       "      <td>Edward</td>\n",
       "      <td>Sanchez</td>\n",
       "      <td>M</td>\n",
       "      <td>594 White Dale Suite 530</td>\n",
       "      <td>Malad City</td>\n",
       "      <td>ID</td>\n",
       "      <td>83252</td>\n",
       "      <td>42.1808</td>\n",
       "      <td>-112.2620</td>\n",
       "      <td>4154</td>\n",
       "      <td>Nature conservation officer</td>\n",
       "      <td>1962-01-19</td>\n",
       "      <td>a1a22d70485983eac12b5b88dad1cf95</td>\n",
       "      <td>1325376051</td>\n",
       "      <td>43.150704</td>\n",
       "      <td>-112.154481</td>\n",
       "      <td>0</td>\n",
       "    </tr>\n",
       "    <tr>\n",
       "      <th>3</th>\n",
       "      <td>3</td>\n",
       "      <td>2019-01-01 00:01:16</td>\n",
       "      <td>3534093764340240</td>\n",
       "      <td>fraud_Kutch, Hermiston and Farrell</td>\n",
       "      <td>gas_transport</td>\n",
       "      <td>45.00</td>\n",
       "      <td>Jeremy</td>\n",
       "      <td>White</td>\n",
       "      <td>M</td>\n",
       "      <td>9443 Cynthia Court Apt. 038</td>\n",
       "      <td>Boulder</td>\n",
       "      <td>MT</td>\n",
       "      <td>59632</td>\n",
       "      <td>46.2306</td>\n",
       "      <td>-112.1138</td>\n",
       "      <td>1939</td>\n",
       "      <td>Patent attorney</td>\n",
       "      <td>1967-01-12</td>\n",
       "      <td>6b849c168bdad6f867558c3793159a81</td>\n",
       "      <td>1325376076</td>\n",
       "      <td>47.034331</td>\n",
       "      <td>-112.561071</td>\n",
       "      <td>0</td>\n",
       "    </tr>\n",
       "    <tr>\n",
       "      <th>4</th>\n",
       "      <td>4</td>\n",
       "      <td>2019-01-01 00:03:06</td>\n",
       "      <td>375534208663984</td>\n",
       "      <td>fraud_Keeling-Crist</td>\n",
       "      <td>misc_pos</td>\n",
       "      <td>41.96</td>\n",
       "      <td>Tyler</td>\n",
       "      <td>Garcia</td>\n",
       "      <td>M</td>\n",
       "      <td>408 Bradley Rest</td>\n",
       "      <td>Doe Hill</td>\n",
       "      <td>VA</td>\n",
       "      <td>24433</td>\n",
       "      <td>38.4207</td>\n",
       "      <td>-79.4629</td>\n",
       "      <td>99</td>\n",
       "      <td>Dance movement psychotherapist</td>\n",
       "      <td>1986-03-28</td>\n",
       "      <td>a41d7549acf90789359a9aa5346dcb46</td>\n",
       "      <td>1325376186</td>\n",
       "      <td>38.674999</td>\n",
       "      <td>-78.632459</td>\n",
       "      <td>0</td>\n",
       "    </tr>\n",
       "  </tbody>\n",
       "</table>\n",
       "</div>"
      ],
      "text/plain": [
       "   Unnamed: 0 trans_date_trans_time            cc_num  \\\n",
       "0           0   2019-01-01 00:00:18  2703186189652095   \n",
       "1           1   2019-01-01 00:00:44      630423337322   \n",
       "2           2   2019-01-01 00:00:51    38859492057661   \n",
       "3           3   2019-01-01 00:01:16  3534093764340240   \n",
       "4           4   2019-01-01 00:03:06   375534208663984   \n",
       "\n",
       "                             merchant       category     amt      first  \\\n",
       "0          fraud_Rippin, Kub and Mann       misc_net    4.97   Jennifer   \n",
       "1     fraud_Heller, Gutmann and Zieme    grocery_pos  107.23  Stephanie   \n",
       "2                fraud_Lind-Buckridge  entertainment  220.11     Edward   \n",
       "3  fraud_Kutch, Hermiston and Farrell  gas_transport   45.00     Jeremy   \n",
       "4                 fraud_Keeling-Crist       misc_pos   41.96      Tyler   \n",
       "\n",
       "      last gender                        street            city state    zip  \\\n",
       "0    Banks      F                561 Perry Cove  Moravian Falls    NC  28654   \n",
       "1     Gill      F  43039 Riley Greens Suite 393          Orient    WA  99160   \n",
       "2  Sanchez      M      594 White Dale Suite 530      Malad City    ID  83252   \n",
       "3    White      M   9443 Cynthia Court Apt. 038         Boulder    MT  59632   \n",
       "4   Garcia      M              408 Bradley Rest        Doe Hill    VA  24433   \n",
       "\n",
       "       lat      long  city_pop                                job         dob  \\\n",
       "0  36.0788  -81.1781      3495          Psychologist, counselling  1988-03-09   \n",
       "1  48.8878 -118.2105       149  Special educational needs teacher  1978-06-21   \n",
       "2  42.1808 -112.2620      4154        Nature conservation officer  1962-01-19   \n",
       "3  46.2306 -112.1138      1939                    Patent attorney  1967-01-12   \n",
       "4  38.4207  -79.4629        99     Dance movement psychotherapist  1986-03-28   \n",
       "\n",
       "                          trans_num   unix_time  merch_lat  merch_long  \\\n",
       "0  0b242abb623afc578575680df30655b9  1325376018  36.011293  -82.048315   \n",
       "1  1f76529f8574734946361c461b024d99  1325376044  49.159047 -118.186462   \n",
       "2  a1a22d70485983eac12b5b88dad1cf95  1325376051  43.150704 -112.154481   \n",
       "3  6b849c168bdad6f867558c3793159a81  1325376076  47.034331 -112.561071   \n",
       "4  a41d7549acf90789359a9aa5346dcb46  1325376186  38.674999  -78.632459   \n",
       "\n",
       "   is_fraud  \n",
       "0         0  \n",
       "1         0  \n",
       "2         0  \n",
       "3         0  \n",
       "4         0  "
      ]
     },
     "execution_count": 9,
     "metadata": {},
     "output_type": "execute_result"
    }
   ],
   "source": [
    "fraud_data.head()"
   ]
  },
  {
   "cell_type": "code",
   "execution_count": 10,
   "id": "32aa9c33",
   "metadata": {},
   "outputs": [
    {
     "data": {
      "text/html": [
       "<div>\n",
       "<style scoped>\n",
       "    .dataframe tbody tr th:only-of-type {\n",
       "        vertical-align: middle;\n",
       "    }\n",
       "\n",
       "    .dataframe tbody tr th {\n",
       "        vertical-align: top;\n",
       "    }\n",
       "\n",
       "    .dataframe thead th {\n",
       "        text-align: right;\n",
       "    }\n",
       "</style>\n",
       "<table border=\"1\" class=\"dataframe\">\n",
       "  <thead>\n",
       "    <tr style=\"text-align: right;\">\n",
       "      <th></th>\n",
       "      <th>Unnamed: 0</th>\n",
       "      <th>trans_date_trans_time</th>\n",
       "      <th>cc_num</th>\n",
       "      <th>merchant</th>\n",
       "      <th>category</th>\n",
       "      <th>amt</th>\n",
       "      <th>first</th>\n",
       "      <th>last</th>\n",
       "      <th>gender</th>\n",
       "      <th>street</th>\n",
       "      <th>city</th>\n",
       "      <th>state</th>\n",
       "      <th>zip</th>\n",
       "      <th>lat</th>\n",
       "      <th>long</th>\n",
       "      <th>city_pop</th>\n",
       "      <th>job</th>\n",
       "      <th>dob</th>\n",
       "      <th>trans_num</th>\n",
       "      <th>unix_time</th>\n",
       "      <th>merch_lat</th>\n",
       "      <th>merch_long</th>\n",
       "      <th>is_fraud</th>\n",
       "    </tr>\n",
       "  </thead>\n",
       "  <tbody>\n",
       "    <tr>\n",
       "      <th>555714</th>\n",
       "      <td>555714</td>\n",
       "      <td>2020-12-31 23:59:07</td>\n",
       "      <td>30560609640617</td>\n",
       "      <td>fraud_Reilly and Sons</td>\n",
       "      <td>health_fitness</td>\n",
       "      <td>43.77</td>\n",
       "      <td>Michael</td>\n",
       "      <td>Olson</td>\n",
       "      <td>M</td>\n",
       "      <td>558 Michael Estates</td>\n",
       "      <td>Luray</td>\n",
       "      <td>MO</td>\n",
       "      <td>63453</td>\n",
       "      <td>40.4931</td>\n",
       "      <td>-91.8912</td>\n",
       "      <td>519</td>\n",
       "      <td>Town planner</td>\n",
       "      <td>1966-02-13</td>\n",
       "      <td>9b1f753c79894c9f4b71f04581835ada</td>\n",
       "      <td>1388534347</td>\n",
       "      <td>39.946837</td>\n",
       "      <td>-91.333331</td>\n",
       "      <td>0</td>\n",
       "    </tr>\n",
       "    <tr>\n",
       "      <th>555715</th>\n",
       "      <td>555715</td>\n",
       "      <td>2020-12-31 23:59:09</td>\n",
       "      <td>3556613125071656</td>\n",
       "      <td>fraud_Hoppe-Parisian</td>\n",
       "      <td>kids_pets</td>\n",
       "      <td>111.84</td>\n",
       "      <td>Jose</td>\n",
       "      <td>Vasquez</td>\n",
       "      <td>M</td>\n",
       "      <td>572 Davis Mountains</td>\n",
       "      <td>Lake Jackson</td>\n",
       "      <td>TX</td>\n",
       "      <td>77566</td>\n",
       "      <td>29.0393</td>\n",
       "      <td>-95.4401</td>\n",
       "      <td>28739</td>\n",
       "      <td>Futures trader</td>\n",
       "      <td>1999-12-27</td>\n",
       "      <td>2090647dac2c89a1d86c514c427f5b91</td>\n",
       "      <td>1388534349</td>\n",
       "      <td>29.661049</td>\n",
       "      <td>-96.186633</td>\n",
       "      <td>0</td>\n",
       "    </tr>\n",
       "    <tr>\n",
       "      <th>555716</th>\n",
       "      <td>555716</td>\n",
       "      <td>2020-12-31 23:59:15</td>\n",
       "      <td>6011724471098086</td>\n",
       "      <td>fraud_Rau-Robel</td>\n",
       "      <td>kids_pets</td>\n",
       "      <td>86.88</td>\n",
       "      <td>Ann</td>\n",
       "      <td>Lawson</td>\n",
       "      <td>F</td>\n",
       "      <td>144 Evans Islands Apt. 683</td>\n",
       "      <td>Burbank</td>\n",
       "      <td>WA</td>\n",
       "      <td>99323</td>\n",
       "      <td>46.1966</td>\n",
       "      <td>-118.9017</td>\n",
       "      <td>3684</td>\n",
       "      <td>Musician</td>\n",
       "      <td>1981-11-29</td>\n",
       "      <td>6c5b7c8add471975aa0fec023b2e8408</td>\n",
       "      <td>1388534355</td>\n",
       "      <td>46.658340</td>\n",
       "      <td>-119.715054</td>\n",
       "      <td>0</td>\n",
       "    </tr>\n",
       "    <tr>\n",
       "      <th>555717</th>\n",
       "      <td>555717</td>\n",
       "      <td>2020-12-31 23:59:24</td>\n",
       "      <td>4079773899158</td>\n",
       "      <td>fraud_Breitenberg LLC</td>\n",
       "      <td>travel</td>\n",
       "      <td>7.99</td>\n",
       "      <td>Eric</td>\n",
       "      <td>Preston</td>\n",
       "      <td>M</td>\n",
       "      <td>7020 Doyle Stream Apt. 951</td>\n",
       "      <td>Mesa</td>\n",
       "      <td>ID</td>\n",
       "      <td>83643</td>\n",
       "      <td>44.6255</td>\n",
       "      <td>-116.4493</td>\n",
       "      <td>129</td>\n",
       "      <td>Cartographer</td>\n",
       "      <td>1965-12-15</td>\n",
       "      <td>14392d723bb7737606b2700ac791b7aa</td>\n",
       "      <td>1388534364</td>\n",
       "      <td>44.470525</td>\n",
       "      <td>-117.080888</td>\n",
       "      <td>0</td>\n",
       "    </tr>\n",
       "    <tr>\n",
       "      <th>555718</th>\n",
       "      <td>555718</td>\n",
       "      <td>2020-12-31 23:59:34</td>\n",
       "      <td>4170689372027579</td>\n",
       "      <td>fraud_Dare-Marvin</td>\n",
       "      <td>entertainment</td>\n",
       "      <td>38.13</td>\n",
       "      <td>Samuel</td>\n",
       "      <td>Frey</td>\n",
       "      <td>M</td>\n",
       "      <td>830 Myers Plaza Apt. 384</td>\n",
       "      <td>Edmond</td>\n",
       "      <td>OK</td>\n",
       "      <td>73034</td>\n",
       "      <td>35.6665</td>\n",
       "      <td>-97.4798</td>\n",
       "      <td>116001</td>\n",
       "      <td>Media buyer</td>\n",
       "      <td>1993-05-10</td>\n",
       "      <td>1765bb45b3aa3224b4cdcb6e7a96cee3</td>\n",
       "      <td>1388534374</td>\n",
       "      <td>36.210097</td>\n",
       "      <td>-97.036372</td>\n",
       "      <td>0</td>\n",
       "    </tr>\n",
       "  </tbody>\n",
       "</table>\n",
       "</div>"
      ],
      "text/plain": [
       "        Unnamed: 0 trans_date_trans_time            cc_num  \\\n",
       "555714      555714   2020-12-31 23:59:07    30560609640617   \n",
       "555715      555715   2020-12-31 23:59:09  3556613125071656   \n",
       "555716      555716   2020-12-31 23:59:15  6011724471098086   \n",
       "555717      555717   2020-12-31 23:59:24     4079773899158   \n",
       "555718      555718   2020-12-31 23:59:34  4170689372027579   \n",
       "\n",
       "                     merchant        category     amt    first     last  \\\n",
       "555714  fraud_Reilly and Sons  health_fitness   43.77  Michael    Olson   \n",
       "555715   fraud_Hoppe-Parisian       kids_pets  111.84     Jose  Vasquez   \n",
       "555716        fraud_Rau-Robel       kids_pets   86.88      Ann   Lawson   \n",
       "555717  fraud_Breitenberg LLC          travel    7.99     Eric  Preston   \n",
       "555718      fraud_Dare-Marvin   entertainment   38.13   Samuel     Frey   \n",
       "\n",
       "       gender                      street          city state    zip      lat  \\\n",
       "555714      M         558 Michael Estates         Luray    MO  63453  40.4931   \n",
       "555715      M         572 Davis Mountains  Lake Jackson    TX  77566  29.0393   \n",
       "555716      F  144 Evans Islands Apt. 683       Burbank    WA  99323  46.1966   \n",
       "555717      M  7020 Doyle Stream Apt. 951          Mesa    ID  83643  44.6255   \n",
       "555718      M    830 Myers Plaza Apt. 384        Edmond    OK  73034  35.6665   \n",
       "\n",
       "            long  city_pop             job         dob  \\\n",
       "555714  -91.8912       519    Town planner  1966-02-13   \n",
       "555715  -95.4401     28739  Futures trader  1999-12-27   \n",
       "555716 -118.9017      3684        Musician  1981-11-29   \n",
       "555717 -116.4493       129    Cartographer  1965-12-15   \n",
       "555718  -97.4798    116001     Media buyer  1993-05-10   \n",
       "\n",
       "                               trans_num   unix_time  merch_lat  merch_long  \\\n",
       "555714  9b1f753c79894c9f4b71f04581835ada  1388534347  39.946837  -91.333331   \n",
       "555715  2090647dac2c89a1d86c514c427f5b91  1388534349  29.661049  -96.186633   \n",
       "555716  6c5b7c8add471975aa0fec023b2e8408  1388534355  46.658340 -119.715054   \n",
       "555717  14392d723bb7737606b2700ac791b7aa  1388534364  44.470525 -117.080888   \n",
       "555718  1765bb45b3aa3224b4cdcb6e7a96cee3  1388534374  36.210097  -97.036372   \n",
       "\n",
       "        is_fraud  \n",
       "555714         0  \n",
       "555715         0  \n",
       "555716         0  \n",
       "555717         0  \n",
       "555718         0  "
      ]
     },
     "execution_count": 10,
     "metadata": {},
     "output_type": "execute_result"
    }
   ],
   "source": [
    "fraud_data.tail()"
   ]
  },
  {
   "cell_type": "code",
   "execution_count": 11,
   "id": "5e082362",
   "metadata": {},
   "outputs": [
    {
     "name": "stdout",
     "output_type": "stream",
     "text": [
      "<class 'pandas.core.frame.DataFrame'>\n",
      "Index: 1852394 entries, 0 to 555718\n",
      "Data columns (total 23 columns):\n",
      " #   Column                 Dtype  \n",
      "---  ------                 -----  \n",
      " 0   Unnamed: 0             int64  \n",
      " 1   trans_date_trans_time  object \n",
      " 2   cc_num                 int64  \n",
      " 3   merchant               object \n",
      " 4   category               object \n",
      " 5   amt                    float64\n",
      " 6   first                  object \n",
      " 7   last                   object \n",
      " 8   gender                 object \n",
      " 9   street                 object \n",
      " 10  city                   object \n",
      " 11  state                  object \n",
      " 12  zip                    int64  \n",
      " 13  lat                    float64\n",
      " 14  long                   float64\n",
      " 15  city_pop               int64  \n",
      " 16  job                    object \n",
      " 17  dob                    object \n",
      " 18  trans_num              object \n",
      " 19  unix_time              int64  \n",
      " 20  merch_lat              float64\n",
      " 21  merch_long             float64\n",
      " 22  is_fraud               int64  \n",
      "dtypes: float64(5), int64(6), object(12)\n",
      "memory usage: 339.2+ MB\n"
     ]
    }
   ],
   "source": [
    "fraud_data.info()"
   ]
  },
  {
   "cell_type": "markdown",
   "id": "7a1a6c6c",
   "metadata": {},
   "source": [
    "# 4. Exploratory Data Analysis"
   ]
  },
  {
   "cell_type": "markdown",
   "id": "6485f10e",
   "metadata": {},
   "source": [
    "## A) Data Quality"
   ]
  },
  {
   "cell_type": "markdown",
   "id": "f8cda805",
   "metadata": {},
   "source": [
    "###  a. Handling duplicates"
   ]
  },
  {
   "cell_type": "code",
   "execution_count": 12,
   "id": "bd29baae",
   "metadata": {},
   "outputs": [
    {
     "name": "stdout",
     "output_type": "stream",
     "text": [
      "Number of duplicated rows:  (0, 23)\n"
     ]
    }
   ],
   "source": [
    "duplicate_rows_data = fraud_data[fraud_data.duplicated()]\n",
    "print(\"Number of duplicated rows: \", duplicate_rows_data.shape)"
   ]
  },
  {
   "cell_type": "markdown",
   "id": "7f7c82e6",
   "metadata": {},
   "source": [
    "### b. Uniqueness"
   ]
  },
  {
   "cell_type": "code",
   "execution_count": 13,
   "id": "2ff18e5f",
   "metadata": {},
   "outputs": [
    {
     "name": "stdout",
     "output_type": "stream",
     "text": [
      "Unnamed: 0: 1296675 distinct values\n",
      "trans_date_trans_time: 1819551 distinct values\n",
      "cc_num: 999 distinct values\n",
      "merchant: 693 distinct values\n",
      "category: 14 distinct values\n",
      "amt: 60616 distinct values\n",
      "first: 355 distinct values\n",
      "last: 486 distinct values\n",
      "gender: 2 distinct values\n",
      "street: 999 distinct values\n",
      "city: 906 distinct values\n",
      "state: 51 distinct values\n",
      "zip: 985 distinct values\n",
      "lat: 983 distinct values\n",
      "long: 983 distinct values\n",
      "city_pop: 891 distinct values\n",
      "job: 497 distinct values\n",
      "dob: 984 distinct values\n",
      "trans_num: 1852394 distinct values\n",
      "unix_time: 1819583 distinct values\n",
      "merch_lat: 1754157 distinct values\n",
      "merch_long: 1809753 distinct values\n",
      "is_fraud: 2 distinct values\n"
     ]
    }
   ],
   "source": [
    "for column in fraud_data.columns:\n",
    "    num_distinct_values = len(fraud_data[column].unique())\n",
    "    print(f\"{column}: {num_distinct_values} distinct values\")"
   ]
  },
  {
   "cell_type": "markdown",
   "id": "499afb70",
   "metadata": {},
   "source": [
    "### c. Missing values"
   ]
  },
  {
   "cell_type": "code",
   "execution_count": 14,
   "id": "95fadedb",
   "metadata": {},
   "outputs": [
    {
     "name": "stdout",
     "output_type": "stream",
     "text": [
      "Unnamed: 0               0\n",
      "trans_date_trans_time    0\n",
      "cc_num                   0\n",
      "merchant                 0\n",
      "category                 0\n",
      "amt                      0\n",
      "first                    0\n",
      "last                     0\n",
      "gender                   0\n",
      "street                   0\n",
      "city                     0\n",
      "state                    0\n",
      "zip                      0\n",
      "lat                      0\n",
      "long                     0\n",
      "city_pop                 0\n",
      "job                      0\n",
      "dob                      0\n",
      "trans_num                0\n",
      "unix_time                0\n",
      "merch_lat                0\n",
      "merch_long               0\n",
      "is_fraud                 0\n",
      "dtype: int64\n"
     ]
    }
   ],
   "source": [
    "print(fraud_data.isnull().sum())"
   ]
  },
  {
   "cell_type": "markdown",
   "id": "8d9aef8d",
   "metadata": {},
   "source": [
    "### d. Describe data"
   ]
  },
  {
   "cell_type": "code",
   "execution_count": 15,
   "id": "af6ac614",
   "metadata": {},
   "outputs": [
    {
     "data": {
      "text/html": [
       "<style type=\"text/css\">\n",
       "</style>\n",
       "<table id=\"T_3fff1\">\n",
       "  <thead>\n",
       "    <tr>\n",
       "      <th class=\"blank level0\" >&nbsp;</th>\n",
       "      <th id=\"T_3fff1_level0_col0\" class=\"col_heading level0 col0\" >Unnamed: 0</th>\n",
       "      <th id=\"T_3fff1_level0_col1\" class=\"col_heading level0 col1\" >cc_num</th>\n",
       "      <th id=\"T_3fff1_level0_col2\" class=\"col_heading level0 col2\" >amt</th>\n",
       "      <th id=\"T_3fff1_level0_col3\" class=\"col_heading level0 col3\" >zip</th>\n",
       "      <th id=\"T_3fff1_level0_col4\" class=\"col_heading level0 col4\" >lat</th>\n",
       "      <th id=\"T_3fff1_level0_col5\" class=\"col_heading level0 col5\" >long</th>\n",
       "      <th id=\"T_3fff1_level0_col6\" class=\"col_heading level0 col6\" >city_pop</th>\n",
       "      <th id=\"T_3fff1_level0_col7\" class=\"col_heading level0 col7\" >unix_time</th>\n",
       "      <th id=\"T_3fff1_level0_col8\" class=\"col_heading level0 col8\" >merch_lat</th>\n",
       "      <th id=\"T_3fff1_level0_col9\" class=\"col_heading level0 col9\" >merch_long</th>\n",
       "      <th id=\"T_3fff1_level0_col10\" class=\"col_heading level0 col10\" >is_fraud</th>\n",
       "    </tr>\n",
       "  </thead>\n",
       "  <tbody>\n",
       "    <tr>\n",
       "      <th id=\"T_3fff1_level0_row0\" class=\"row_heading level0 row0\" >count</th>\n",
       "      <td id=\"T_3fff1_row0_col0\" class=\"data row0 col0\" >1852394.00</td>\n",
       "      <td id=\"T_3fff1_row0_col1\" class=\"data row0 col1\" >1852394.00</td>\n",
       "      <td id=\"T_3fff1_row0_col2\" class=\"data row0 col2\" >1852394.00</td>\n",
       "      <td id=\"T_3fff1_row0_col3\" class=\"data row0 col3\" >1852394.00</td>\n",
       "      <td id=\"T_3fff1_row0_col4\" class=\"data row0 col4\" >1852394.00</td>\n",
       "      <td id=\"T_3fff1_row0_col5\" class=\"data row0 col5\" >1852394.00</td>\n",
       "      <td id=\"T_3fff1_row0_col6\" class=\"data row0 col6\" >1852394.00</td>\n",
       "      <td id=\"T_3fff1_row0_col7\" class=\"data row0 col7\" >1852394.00</td>\n",
       "      <td id=\"T_3fff1_row0_col8\" class=\"data row0 col8\" >1852394.00</td>\n",
       "      <td id=\"T_3fff1_row0_col9\" class=\"data row0 col9\" >1852394.00</td>\n",
       "      <td id=\"T_3fff1_row0_col10\" class=\"data row0 col10\" >1852394.00</td>\n",
       "    </tr>\n",
       "    <tr>\n",
       "      <th id=\"T_3fff1_level0_row1\" class=\"row_heading level0 row1\" >mean</th>\n",
       "      <td id=\"T_3fff1_row1_col0\" class=\"data row1 col0\" >537193.44</td>\n",
       "      <td id=\"T_3fff1_row1_col1\" class=\"data row1 col1\" >417386038393710400.00</td>\n",
       "      <td id=\"T_3fff1_row1_col2\" class=\"data row1 col2\" >70.06</td>\n",
       "      <td id=\"T_3fff1_row1_col3\" class=\"data row1 col3\" >48813.26</td>\n",
       "      <td id=\"T_3fff1_row1_col4\" class=\"data row1 col4\" >38.54</td>\n",
       "      <td id=\"T_3fff1_row1_col5\" class=\"data row1 col5\" >-90.23</td>\n",
       "      <td id=\"T_3fff1_row1_col6\" class=\"data row1 col6\" >88643.67</td>\n",
       "      <td id=\"T_3fff1_row1_col7\" class=\"data row1 col7\" >1358674218.83</td>\n",
       "      <td id=\"T_3fff1_row1_col8\" class=\"data row1 col8\" >38.54</td>\n",
       "      <td id=\"T_3fff1_row1_col9\" class=\"data row1 col9\" >-90.23</td>\n",
       "      <td id=\"T_3fff1_row1_col10\" class=\"data row1 col10\" >0.01</td>\n",
       "    </tr>\n",
       "    <tr>\n",
       "      <th id=\"T_3fff1_level0_row2\" class=\"row_heading level0 row2\" >std</th>\n",
       "      <td id=\"T_3fff1_row2_col0\" class=\"data row2 col0\" >366910.96</td>\n",
       "      <td id=\"T_3fff1_row2_col1\" class=\"data row2 col1\" >1309115265318734848.00</td>\n",
       "      <td id=\"T_3fff1_row2_col2\" class=\"data row2 col2\" >159.25</td>\n",
       "      <td id=\"T_3fff1_row2_col3\" class=\"data row2 col3\" >26881.85</td>\n",
       "      <td id=\"T_3fff1_row2_col4\" class=\"data row2 col4\" >5.07</td>\n",
       "      <td id=\"T_3fff1_row2_col5\" class=\"data row2 col5\" >13.75</td>\n",
       "      <td id=\"T_3fff1_row2_col6\" class=\"data row2 col6\" >301487.62</td>\n",
       "      <td id=\"T_3fff1_row2_col7\" class=\"data row2 col7\" >18195081.39</td>\n",
       "      <td id=\"T_3fff1_row2_col8\" class=\"data row2 col8\" >5.11</td>\n",
       "      <td id=\"T_3fff1_row2_col9\" class=\"data row2 col9\" >13.76</td>\n",
       "      <td id=\"T_3fff1_row2_col10\" class=\"data row2 col10\" >0.07</td>\n",
       "    </tr>\n",
       "    <tr>\n",
       "      <th id=\"T_3fff1_level0_row3\" class=\"row_heading level0 row3\" >min</th>\n",
       "      <td id=\"T_3fff1_row3_col0\" class=\"data row3 col0\" >0.00</td>\n",
       "      <td id=\"T_3fff1_row3_col1\" class=\"data row3 col1\" >60416207185.00</td>\n",
       "      <td id=\"T_3fff1_row3_col2\" class=\"data row3 col2\" >1.00</td>\n",
       "      <td id=\"T_3fff1_row3_col3\" class=\"data row3 col3\" >1257.00</td>\n",
       "      <td id=\"T_3fff1_row3_col4\" class=\"data row3 col4\" >20.03</td>\n",
       "      <td id=\"T_3fff1_row3_col5\" class=\"data row3 col5\" >-165.67</td>\n",
       "      <td id=\"T_3fff1_row3_col6\" class=\"data row3 col6\" >23.00</td>\n",
       "      <td id=\"T_3fff1_row3_col7\" class=\"data row3 col7\" >1325376018.00</td>\n",
       "      <td id=\"T_3fff1_row3_col8\" class=\"data row3 col8\" >19.03</td>\n",
       "      <td id=\"T_3fff1_row3_col9\" class=\"data row3 col9\" >-166.67</td>\n",
       "      <td id=\"T_3fff1_row3_col10\" class=\"data row3 col10\" >0.00</td>\n",
       "    </tr>\n",
       "    <tr>\n",
       "      <th id=\"T_3fff1_level0_row4\" class=\"row_heading level0 row4\" >25%</th>\n",
       "      <td id=\"T_3fff1_row4_col0\" class=\"data row4 col0\" >231549.00</td>\n",
       "      <td id=\"T_3fff1_row4_col1\" class=\"data row4 col1\" >180042946491150.00</td>\n",
       "      <td id=\"T_3fff1_row4_col2\" class=\"data row4 col2\" >9.64</td>\n",
       "      <td id=\"T_3fff1_row4_col3\" class=\"data row4 col3\" >26237.00</td>\n",
       "      <td id=\"T_3fff1_row4_col4\" class=\"data row4 col4\" >34.67</td>\n",
       "      <td id=\"T_3fff1_row4_col5\" class=\"data row4 col5\" >-96.80</td>\n",
       "      <td id=\"T_3fff1_row4_col6\" class=\"data row4 col6\" >741.00</td>\n",
       "      <td id=\"T_3fff1_row4_col7\" class=\"data row4 col7\" >1343016823.75</td>\n",
       "      <td id=\"T_3fff1_row4_col8\" class=\"data row4 col8\" >34.74</td>\n",
       "      <td id=\"T_3fff1_row4_col9\" class=\"data row4 col9\" >-96.90</td>\n",
       "      <td id=\"T_3fff1_row4_col10\" class=\"data row4 col10\" >0.00</td>\n",
       "    </tr>\n",
       "    <tr>\n",
       "      <th id=\"T_3fff1_level0_row5\" class=\"row_heading level0 row5\" >50%</th>\n",
       "      <td id=\"T_3fff1_row5_col0\" class=\"data row5 col0\" >463098.00</td>\n",
       "      <td id=\"T_3fff1_row5_col1\" class=\"data row5 col1\" >3521417320836166.00</td>\n",
       "      <td id=\"T_3fff1_row5_col2\" class=\"data row5 col2\" >47.45</td>\n",
       "      <td id=\"T_3fff1_row5_col3\" class=\"data row5 col3\" >48174.00</td>\n",
       "      <td id=\"T_3fff1_row5_col4\" class=\"data row5 col4\" >39.35</td>\n",
       "      <td id=\"T_3fff1_row5_col5\" class=\"data row5 col5\" >-87.48</td>\n",
       "      <td id=\"T_3fff1_row5_col6\" class=\"data row5 col6\" >2443.00</td>\n",
       "      <td id=\"T_3fff1_row5_col7\" class=\"data row5 col7\" >1357089331.00</td>\n",
       "      <td id=\"T_3fff1_row5_col8\" class=\"data row5 col8\" >39.37</td>\n",
       "      <td id=\"T_3fff1_row5_col9\" class=\"data row5 col9\" >-87.44</td>\n",
       "      <td id=\"T_3fff1_row5_col10\" class=\"data row5 col10\" >0.00</td>\n",
       "    </tr>\n",
       "    <tr>\n",
       "      <th id=\"T_3fff1_level0_row6\" class=\"row_heading level0 row6\" >75%</th>\n",
       "      <td id=\"T_3fff1_row6_col0\" class=\"data row6 col0\" >833575.75</td>\n",
       "      <td id=\"T_3fff1_row6_col1\" class=\"data row6 col1\" >4642255475285942.00</td>\n",
       "      <td id=\"T_3fff1_row6_col2\" class=\"data row6 col2\" >83.10</td>\n",
       "      <td id=\"T_3fff1_row6_col3\" class=\"data row6 col3\" >72042.00</td>\n",
       "      <td id=\"T_3fff1_row6_col4\" class=\"data row6 col4\" >41.94</td>\n",
       "      <td id=\"T_3fff1_row6_col5\" class=\"data row6 col5\" >-80.16</td>\n",
       "      <td id=\"T_3fff1_row6_col6\" class=\"data row6 col6\" >20328.00</td>\n",
       "      <td id=\"T_3fff1_row6_col7\" class=\"data row6 col7\" >1374581485.25</td>\n",
       "      <td id=\"T_3fff1_row6_col8\" class=\"data row6 col8\" >41.96</td>\n",
       "      <td id=\"T_3fff1_row6_col9\" class=\"data row6 col9\" >-80.25</td>\n",
       "      <td id=\"T_3fff1_row6_col10\" class=\"data row6 col10\" >0.00</td>\n",
       "    </tr>\n",
       "    <tr>\n",
       "      <th id=\"T_3fff1_level0_row7\" class=\"row_heading level0 row7\" >max</th>\n",
       "      <td id=\"T_3fff1_row7_col0\" class=\"data row7 col0\" >1296674.00</td>\n",
       "      <td id=\"T_3fff1_row7_col1\" class=\"data row7 col1\" >4992346398065154048.00</td>\n",
       "      <td id=\"T_3fff1_row7_col2\" class=\"data row7 col2\" >28948.90</td>\n",
       "      <td id=\"T_3fff1_row7_col3\" class=\"data row7 col3\" >99921.00</td>\n",
       "      <td id=\"T_3fff1_row7_col4\" class=\"data row7 col4\" >66.69</td>\n",
       "      <td id=\"T_3fff1_row7_col5\" class=\"data row7 col5\" >-67.95</td>\n",
       "      <td id=\"T_3fff1_row7_col6\" class=\"data row7 col6\" >2906700.00</td>\n",
       "      <td id=\"T_3fff1_row7_col7\" class=\"data row7 col7\" >1388534374.00</td>\n",
       "      <td id=\"T_3fff1_row7_col8\" class=\"data row7 col8\" >67.51</td>\n",
       "      <td id=\"T_3fff1_row7_col9\" class=\"data row7 col9\" >-66.95</td>\n",
       "      <td id=\"T_3fff1_row7_col10\" class=\"data row7 col10\" >1.00</td>\n",
       "    </tr>\n",
       "  </tbody>\n",
       "</table>\n"
      ],
      "text/plain": [
       "<pandas.io.formats.style.Styler at 0x7f3870c1da50>"
      ]
     },
     "execution_count": 15,
     "metadata": {},
     "output_type": "execute_result"
    }
   ],
   "source": [
    "fraud_data.describe().style.format('{:.2f}')"
   ]
  },
  {
   "cell_type": "markdown",
   "id": "352a1270",
   "metadata": {},
   "source": [
    "## B) Univariate Analysis"
   ]
  },
  {
   "cell_type": "markdown",
   "id": "5a877e56",
   "metadata": {},
   "source": [
    "### a. Bar plot for merchant"
   ]
  },
  {
   "cell_type": "code",
   "execution_count": 16,
   "id": "c72ed39f",
   "metadata": {},
   "outputs": [
    {
     "data": {
      "image/png": "[encoded data removed]",
      "text/plain": [
       "<Figure size 640x480 with 1 Axes>"
      ]
     },
     "metadata": {},
     "output_type": "display_data"
    }
   ],
   "source": [
    "sns.countplot(x='category', data=fraud_data)\n",
    "plt.title('Category distribution')\n",
    "plt.xticks(rotation=90)\n",
    "plt.show()"
   ]
  },
  {
   "cell_type": "markdown",
   "id": "88d6c65a",
   "metadata": {},
   "source": [
    "### b. Histogram for amt"
   ]
  },
  {
   "cell_type": "code",
   "execution_count": 17,
   "id": "d88bf881",
   "metadata": {},
   "outputs": [
    {
     "data": {
      "image/png": "[encoded data removed]",
      "text/plain": [
       "<Figure size 640x480 with 1 Axes>"
      ]
     },
     "metadata": {},
     "output_type": "display_data"
    }
   ],
   "source": [
    "plt.hist(fraud_data['amt'], edgecolor='black')\n",
    "plt.title('Amount Distribution')\n",
    "plt.xlabel('Amount')\n",
    "plt.ylabel('Count')\n",
    "plt.show()"
   ]
  },
  {
   "cell_type": "markdown",
   "id": "e07b595f",
   "metadata": {},
   "source": [
    "### c. Bar plot for gender"
   ]
  },
  {
   "cell_type": "code",
   "execution_count": 18,
   "id": "cd1efbbe",
   "metadata": {},
   "outputs": [
    {
     "data": {
      "image/png": "[encoded data removed]",
      "text/plain": [
       "<Figure size 640x480 with 1 Axes>"
      ]
     },
     "metadata": {},
     "output_type": "display_data"
    }
   ],
   "source": [
    "sns.countplot(x='gender', data=fraud_data)\n",
    "plt.title('Gender distribution')\n",
    "plt.show()"
   ]
  },
  {
   "cell_type": "markdown",
   "id": "4a66428d",
   "metadata": {},
   "source": [
    "### d. Bar plot for state"
   ]
  },
  {
   "cell_type": "code",
   "execution_count": 19,
   "id": "19706e19",
   "metadata": {},
   "outputs": [
    {
     "data": {
      "image/png": "[encoded data removed]",
      "text/plain": [
       "<Figure size 2000x1000 with 1 Axes>"
      ]
     },
     "metadata": {},
     "output_type": "display_data"
    }
   ],
   "source": [
    "plt.figure(figsize=(20, 10))\n",
    "sns.countplot(x='state', data=fraud_data)\n",
    "plt.title('State distribution')\n",
    "plt.xticks(rotation=90)\n",
    "plt.show()"
   ]
  },
  {
   "cell_type": "markdown",
   "id": "42e0dd17",
   "metadata": {},
   "source": [
    "### e. Bar plot for is_fraud"
   ]
  },
  {
   "cell_type": "code",
   "execution_count": 20,
   "id": "36d99e57",
   "metadata": {
    "scrolled": false
   },
   "outputs": [
    {
     "data": {
      "image/png": "[encoded data removed]",
      "text/plain": [
       "<Figure size 640x480 with 1 Axes>"
      ]
     },
     "metadata": {},
     "output_type": "display_data"
    }
   ],
   "source": [
    "sns.countplot(x='is_fraud', data=fraud_data)\n",
    "plt.title('Fraud distribution')\n",
    "plt.show()"
   ]
  },
  {
   "cell_type": "code",
   "execution_count": null,
   "id": "b5bc9d3f",
   "metadata": {},
   "outputs": [],
   "source": []
  },
  {
   "cell_type": "code",
   "execution_count": null,
   "id": "cf0f51c2",
   "metadata": {},
   "outputs": [],
   "source": []
  }
 ],
 "metadata": {
  "kernelspec": {
   "display_name": "Python 3 (ipykernel)",
   "language": "python",
   "name": "python3"
  },
  "language_info": {
   "codemirror_mode": {
    "name": "ipython",
    "version": 3
   },
   "file_extension": ".py",
   "mimetype": "text/x-python",
   "name": "python",
   "nbconvert_exporter": "python",
   "pygments_lexer": "ipython3",
   "version": "3.11.3"
  }
 },
 "nbformat": 4,
 "nbformat_minor": 5
}
